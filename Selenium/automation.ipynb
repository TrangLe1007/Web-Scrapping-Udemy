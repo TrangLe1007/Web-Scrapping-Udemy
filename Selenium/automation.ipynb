{
 "cells": [
  {
   "cell_type": "code",
   "execution_count": 38,
   "source": [
    "import requests\r\n",
    "from bs4 import BeautifulSoup as bs\r\n",
    "import pandas as pd\r\n",
    "\r\n",
    "req = requests.get('https://truyenfull.vn/danh-sach/truyen-moi/')\r\n",
    "data=req.text\r\n",
    "soup = bs(data,\"html.parser\")\r\n",
    "soup\r\n",
    "results = soup.find_all(\"div\",{\"row\"})\r\n",
    "\r\n",
    "titles = []\r\n",
    "for res in results:\r\n",
    "    title = res.find(\"a\")\r\n",
    "    if title!=None:\r\n",
    "        print(title.text)\r\n",
    "        titles.append(title.text)\r\n",
    "\r\n",
    "database = {'Title_book': titles}\r\n",
    "df = pd.DataFrame.from_dict(database, orient='index')\r\n",
    "df = df.transpose()\r\n",
    "df.to_csv('book_Database.csv',encoding='utf-8-sig')"
   ],
   "outputs": [
    {
     "output_type": "stream",
     "name": "stdout",
     "text": [
      "Tiên Hiệp\n",
      "Kiếm Lai\n",
      "Người Bị Hại Luôn Tới Tìm Tôi\n",
      "Xuyên Nhanh Công Lược\n",
      "Yêu Lại Từ Đầu 2\n",
      "Mộ Thiếu, Vợ Cậu Lại Trọng Sinh Rồi\n",
      "Toàn Thế Giới Đều Cho Rằng Tôi Là Nữ Giả Nam\n",
      "Trọng Sinh Chi Làm Bé Ngoan\n",
      "Xuyên Qua Cổ Đại Làm Phu Tử\n",
      "Thiêu\n",
      "Hai Thai Năm Bảo Tổng Tài Bẫy Được Vợ Ngoan\n",
      "Ôm Đùi Boss Ác Ôn\n",
      "Hồi Tưởng Cứu Rỗi\n",
      "Cảnh Xuân Chợt Tiết\n",
      "Chồng Tôi Thật Quyến Rũ\n",
      "Chàng Rể Tỷ Phú\n",
      "Vương Phi Muốn Tái Giá Rồi\n",
      "Xuyên Thành Em Gái Trà Xanh Của Nữ Chủ Trong Tra Tiện Văn\n",
      "Tình Yêu Của Anh Tôi Không Dám Nhận\n",
      "Kiếp Này Chỉ Nguyện Bên Người\n",
      "Bút Ký Phản Công Của Nữ Phụ Pháo Hôi\n",
      "Chiến Long Vô Song\n",
      "Lạn Kha Kỳ Duyên\n",
      "Mạnh Mẽ Công Thủ\n",
      "Đế Thiếu Lạnh Lùng Không Thể Trêu Vào\n",
      "Hoàng Đế Ngầm Của Tiêu Châu\n",
      "Thần Y Lâm Cứu Em Đi\n",
      "Sủng Tới Nghiện Vợ Yêu Có Độc\n",
      "Tiên Hiệp\n",
      "Mê Vợ Không Lối Về\n",
      "Thần Đạo Đan Tôn\n",
      "Rể Quý Trời Cho\n",
      "Thế Giới Hoàn Mỹ\n",
      "Đấu Phá Thương Khung\n",
      "Cô Vợ Ngọt Ngào Có Chút Bất Lương (Vợ Mới Bất Lương Có Chút Ngọt)\n",
      "Linh Vũ Thiên Hạ\n",
      "Nhất Niệm Vĩnh Hằng\n",
      "Ngạo Thế Đan Thần\n",
      "Xuyên Nhanh: Nam Thần, Bùng Cháy Đi!\n"
     ]
    }
   ],
   "metadata": {}
  },
  {
   "cell_type": "code",
   "execution_count": null,
   "source": [],
   "outputs": [],
   "metadata": {}
  }
 ],
 "metadata": {
  "orig_nbformat": 4,
  "language_info": {
   "name": "python",
   "version": "3.8.8",
   "mimetype": "text/x-python",
   "codemirror_mode": {
    "name": "ipython",
    "version": 3
   },
   "pygments_lexer": "ipython3",
   "nbconvert_exporter": "python",
   "file_extension": ".py"
  },
  "kernelspec": {
   "name": "python3",
   "display_name": "Python 3.8.8 64-bit ('base': conda)"
  },
  "interpreter": {
   "hash": "66f0e4740112f73d64848fa8e78a8f4b7c0200cac258dd555921115ecbad10ea"
  }
 },
 "nbformat": 4,
 "nbformat_minor": 2
}