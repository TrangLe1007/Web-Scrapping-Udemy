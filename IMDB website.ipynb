{
 "cells": [
  {
   "cell_type": "markdown",
   "id": "d1b05493",
   "metadata": {},
   "source": [
    "### Write a Python script to download IMDB 250 Top Rated Movies.\n",
    "### For each movie, you'll need to retrieve the movie title, the ranking, the initial release year, the casting and the rating.\n"
   ]
  },
  {
   "cell_type": "code",
   "execution_count": 53,
   "id": "c152bf3f",
   "metadata": {},
   "outputs": [],
   "source": [
    "from bs4 import BeautifulSoup as bs\n",
    "import requests\n",
    "import pandas as pd\n",
    "\n",
    "url=\"https://www.imdb.com/chart/top\"\n",
    "respone=requests.get(url)\n",
    "data=respone.text\n",
    "soup=bs(data,\"html.parser\")\n",
    "\n",
    "title_lst=[]\n",
    "ranking_lst=[]\n",
    "release_year=[]\n",
    "casting_lst=[]\n",
    "rating_lst=[]\n"
   ]
  },
  {
   "cell_type": "code",
   "execution_count": 71,
   "id": "f85ae9f5",
   "metadata": {},
   "outputs": [],
   "source": [
    "titles= soup.find_all(\"td\",{\"class\":\"titleColumn\"})\n",
    "ratings= soup.find_all(\"td\",{\"class\":\"ratingColumn imdbRating\"})\n",
    "\n",
    "for title,rating in zip(titles,ratings):\n",
    "    title_name= title.find(\"a\").text\n",
    "    title_year= title.find(\"span\",{\"class\":\"secondaryInfo\"}).text\n",
    "    ranking_ele= title.text[7:10].strip(\".\\n\").strip(\" \")\n",
    "    #rating_ele= rating.find(\"strong\").text\n",
    "    #casting_ele= str(title.find(\"a\")).split(\"=\")[-1].split('\"')[1]\n",
    "    casting_ele= title.find(\"a\")['title']\n",
    "  \n",
    "    title_lst.append(title_name)\n",
    "    release_year.append(title_year)\n",
    "    ranking_lst.append(ranking_ele)\n",
    "#     rating_lst.append(rating_ele)\n",
    "    casting_lst.append(casting_ele)\n",
    "    \n",
    "    \n",
    "    #print(title_name,\"\\n\", title_year,\"\\n\",ranking_ele,\"\\n\",rating_ele,\"\\n\",casting_ele,\"\\n---\")\n",
    "#print(rating_lst)\n",
    "    "
   ]
  },
  {
   "cell_type": "code",
   "execution_count": 73,
   "id": "eb950ba4",
   "metadata": {},
   "outputs": [],
   "source": [
    "database = {'Title name':title_lst,\n",
    "            'Ranking':ranking_lst,\n",
    "            'Release year':release_year,\n",
    "#             'IDMB rating':rating_lst,\n",
    "            'Casting':casting_lst\n",
    "            }\n",
    "df = pd.DataFrame.from_dict(database, orient='index')\n",
    "df = df.transpose()\n",
    "\n",
    "\n",
    "df.to_csv('IDMB Database.csv')"
   ]
  }
 ],
 "metadata": {
  "kernelspec": {
   "display_name": "Python 3",
   "language": "python",
   "name": "python3"
  },
  "language_info": {
   "codemirror_mode": {
    "name": "ipython",
    "version": 3
   },
   "file_extension": ".py",
   "mimetype": "text/x-python",
   "name": "python",
   "nbconvert_exporter": "python",
   "pygments_lexer": "ipython3",
   "version": "3.8.8"
  }
 },
 "nbformat": 4,
 "nbformat_minor": 5
}
