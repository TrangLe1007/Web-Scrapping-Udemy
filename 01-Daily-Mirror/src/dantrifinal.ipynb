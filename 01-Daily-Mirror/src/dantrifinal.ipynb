{
 "cells": [
  {
   "cell_type": "code",
   "execution_count": 3,
   "id": "e9ca9599",
   "metadata": {},
   "outputs": [
    {
     "name": "stdout",
     "output_type": "stream",
     "text": [
      "Tối 15/6, 213 ca mắc mới Covid-19\n",
      "\"Thần tài\" của HLV Park Hang Seo sẽ giúp tuyển Việt Nam thắng UAE? \n",
      "Chuyên gia UAE lo sợ vũ khí nguy hiểm của đội tuyển Việt Nam \n",
      "Việt Nam triển khai chiến dịch tiêm vắc xin Covid-19 lớn nhất trong lịch sử \n",
      "Khởi tố cựu cán bộ Bộ Công an Nguyễn Duy Linh \n",
      "Vụ cháy 6 người tử vong: \"Nổ bùm bùm, biết có người nhưng không thể cứu!\" \n",
      "Báo châu Á: \"Đã đến lúc thế hệ vàng bóng đá Việt Nam vươn ra biển lớn\" \n",
      "60 nhân viên BV Bệnh Nhiệt đới dương tính SARS-CoV-2, nguồn lây từ ngoài \n",
      "CEO siêu doanh nghiệp 500.000 tỷ đồng: \"Tôi chỉ có chất xám, không có tiền\" \n",
      "Hà Nội phong tỏa một tòa chung cư do có ca dương tính SARS-CoV-2\n",
      "Quán \"cháy\" máy nhận đơn, giao đồ nhậu tận nhà trước trận Việt Nam - UAE \n",
      "TPHCM: Những ca Covid-19 không rõ nguồn lây có công thức chung!\n",
      "Tuyển thủ Việt Nam đã sẵn sàng trước trận cầu sinh tử với UAE\n",
      "Bác sĩ BV Chợ Rẫy khóc nghẹn khi về từ tâm dịch nhưng vắng bóng người thân\n"
     ]
    }
   ],
   "source": [
    "import requests\n",
    "from bs4 import BeautifulSoup as bs\n",
    "url = \"https://dantri.com.vn/\"\n",
    "r = requests.get(url)\n",
    "r.content\n",
    "\n",
    "tin = bs(r.content, 'lxml')\n",
    "\n",
    "x = tin.find_all(\"div\", {\"class\": \"news-item news-item--link\"})\n",
    "\n",
    "y = tin.find_all(\"h2\", {\"class\": \"news-item__title\"})\n",
    "title = []\n",
    "for e in y:\n",
    "    title.append(e.text)\n",
    "    \n",
    "for i in [title]:\n",
    "    for a in range(0,len(title)):\n",
    "        i = title[a].replace('\\n' or '\\r', '').replace('\\r','').replace('  ',\"\")\n",
    "        print(i)"
   ]
  },
  {
   "cell_type": "code",
   "execution_count": null,
   "id": "e07d5ef6",
   "metadata": {},
   "outputs": [],
   "source": []
  }
 ],
 "metadata": {
  "kernelspec": {
   "display_name": "Python 3",
   "language": "python",
   "name": "python3"
  },
  "language_info": {
   "codemirror_mode": {
    "name": "ipython",
    "version": 3
   },
   "file_extension": ".py",
   "mimetype": "text/x-python",
   "name": "python",
   "nbconvert_exporter": "python",
   "pygments_lexer": "ipython3",
   "version": "3.8.8"
  }
 },
 "nbformat": 4,
 "nbformat_minor": 5
}
